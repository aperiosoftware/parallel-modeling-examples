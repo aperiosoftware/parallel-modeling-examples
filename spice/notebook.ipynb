{
 "cells": [
  {
   "cell_type": "code",
   "execution_count": null,
   "id": "4cce4430-1006-4636-a486-73059a3cbbb0",
   "metadata": {},
   "outputs": [],
   "source": [
    "from dask.distributed import LocalCluster\n",
    "cluster = LocalCluster(n_workers=16, threads_per_worker=1)\n",
    "client = cluster.get_client()"
   ]
  },
  {
   "cell_type": "code",
   "execution_count": null,
   "id": "8c3015fa-0d7d-4558-839f-0042b448a9b2",
   "metadata": {},
   "outputs": [],
   "source": [
    "cluster"
   ]
  },
  {
   "cell_type": "code",
   "execution_count": null,
   "id": "417a4825-dc15-4ff3-ab8d-8ce2af585948",
   "metadata": {},
   "outputs": [],
   "source": [
    "import numpy as np\n",
    "from astropy.io import fits\n",
    "import matplotlib.pyplot as plt\n",
    "import asdf\n",
    "from tqdm.dask import TqdmCallback\n",
    "\n",
    "import astropy.units as u\n",
    "from astropy.visualization import quantity_support\n",
    "quantity_support()\n",
    "\n",
    "from sunraster.instr.spice import read_spice_l2_fits\n",
    "from sospice.calibrate import spice_error\n",
    "\n",
    "from astropy.modeling.fitting_parallel import parallel_fit_model_nd\n",
    "from astropy.modeling import fitting\n",
    "\n",
    "\n",
    "filename = \"solo_L2_spice-n-ras_20230415T120519_V02_184549780-000.fits.gz\"\n",
    "window='N IV 765 ... Ne VIII 770 (Merged)'\n",
    "\n",
    "spice = read_spice_l2_fits(filename)\n",
    "spice = spice[window]\n",
    "spice.mask |= (spice.data <= 0)\n",
    "include = ~np.all(spice.mask, axis=(0, 2, 3))\n",
    "\n",
    "hdulist = fits.open(filename)\n",
    "for h in hdulist:\n",
    "    if h.name == window:\n",
    "        hdu = h\n",
    "        break\n",
    "av_cojstant_noise_level, sigmadict = spice_error(hdu)\n",
    "sigma = sigmadict[\"Total\"].value\n",
    "spice.mask = spice.mask | np.isnan(sigma) | (sigma <= 0)\n",
    "# drop leading length 1 dimension\n",
    "spice = spice[0]\n",
    "spice"
   ]
  },
  {
   "cell_type": "code",
   "execution_count": null,
   "id": "7890a08c-0e02-4d11-a30f-be30f739e828",
   "metadata": {},
   "outputs": [],
   "source": [
    "# We were given a model to fit, I assume it's \"emprical\" starting parameters\n",
    "with asdf.open(\"spice-model.asdf\") as af:\n",
    "    initial_model = af[\"spice-model\"]"
   ]
  },
  {
   "cell_type": "code",
   "execution_count": null,
   "id": "75f13071-e9d2-4f7f-aaad-b8d6d6ab8480",
   "metadata": {},
   "outputs": [],
   "source": [
    "#spice = spice[:, 250:300, 50:100]\n",
    "spice"
   ]
  },
  {
   "cell_type": "code",
   "execution_count": null,
   "id": "23b918eb-4d48-4ab8-ae79-e58ceb05418f",
   "metadata": {},
   "outputs": [],
   "source": [
    "wave = spice.axis_world_coords(\"em.wl\")[0].to(u.AA)"
   ]
  },
  {
   "cell_type": "code",
   "execution_count": null,
   "id": "d368ece3-ef89-46e2-b578-0c9fefc2c64d",
   "metadata": {},
   "outputs": [],
   "source": [
    "spice_model_fit = parallel_fit_model_nd(\n",
    "        model=initial_model,\n",
    "        fitter=fitting.TRFLSQFitter(),\n",
    "        data=spice.data,\n",
    "        fitting_axes=0,\n",
    "        world = {0: wave},\n",
    "        diagnostics=\"failed\",\n",
    "        diagnostics_path=\"diag\",\n",
    "        fitter_kwargs={\"filter_non_finite\": True},\n",
    "        chunk_n_max=50,\n",
    "        scheduler=\"default\",\n",
    ")    "
   ]
  },
  {
   "cell_type": "code",
   "execution_count": null,
   "id": "492ec17d-ef97-480a-97f5-d9d161e6939a",
   "metadata": {
    "scrolled": true
   },
   "outputs": [],
   "source": [
    "all_fits = spice_model_fit(wave[:, None, None].to_value(u.AA))"
   ]
  },
  {
   "cell_type": "code",
   "execution_count": null,
   "id": "73474b1a-3ebd-4416-ad7f-39bdd80083bc",
   "metadata": {},
   "outputs": [],
   "source": [
    "interesting_looking_pixel = np.s_[:, 284, 116]\n",
    "interesting_looking_pixel = np.s_[:, 25, 25]\n",
    "\n",
    "fig, ax = plt.subplots()\n",
    "ax.set_title(\"Intitial guess\")\n",
    "ax.plot(wave.to(u.nm), spice.data[interesting_looking_pixel], \"o-\", label=\"Data\")\n",
    "ax.plot(wave, initial_model(wave.to_value(u.AA)), \"--\", label=\"Initial Guess\")\n",
    "ax.plot(wave, all_fits[interesting_looking_pixel], \"--\", label=\"Fit\")\n",
    "plt.legend()"
   ]
  },
  {
   "cell_type": "code",
   "execution_count": null,
   "id": "410d8483-98f2-4a5f-bc15-f291f9217923",
   "metadata": {},
   "outputs": [],
   "source": []
  }
 ],
 "metadata": {
  "kernelspec": {
   "display_name": "Python 3 (ipykernel)",
   "language": "python",
   "name": "python3"
  },
  "language_info": {
   "codemirror_mode": {
    "name": "ipython",
    "version": 3
   },
   "file_extension": ".py",
   "mimetype": "text/x-python",
   "name": "python",
   "nbconvert_exporter": "python",
   "pygments_lexer": "ipython3",
   "version": "3.12.3"
  }
 },
 "nbformat": 4,
 "nbformat_minor": 5
}
