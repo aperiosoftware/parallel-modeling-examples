{
 "cells": [
  {
   "cell_type": "code",
   "execution_count": null,
   "id": "539feb3a-bec3-4bab-83b3-d82e53dfd3f9",
   "metadata": {},
   "outputs": [],
   "source": [
    "import dkist\n",
    "import dkist.net\n",
    "from sunpy.net import Fido, attrs as a"
   ]
  },
  {
   "cell_type": "code",
   "execution_count": null,
   "id": "46d5dd97-0686-4ed0-bca1-4d5d27ad2563",
   "metadata": {},
   "outputs": [],
   "source": [
    "from astropy.modeling.models import Lorentz1D, Const1D, Gaussian1D\n",
    "import astropy.units as u"
   ]
  },
  {
   "cell_type": "code",
   "execution_count": null,
   "id": "e2a06258-1391-44fa-98f3-9f83d1e84e1d",
   "metadata": {},
   "outputs": [],
   "source": [
    "import matplotlib.pyplot as plt\n",
    "from astropy.visualization import quantity_support"
   ]
  },
  {
   "cell_type": "code",
   "execution_count": null,
   "id": "1e22773a-880a-44f1-b75e-2f4bc9be1e2f",
   "metadata": {},
   "outputs": [],
   "source": [
    "from astropy.modeling.fitting import TRFLSQFitter\n",
    "import numpy as np"
   ]
  },
  {
   "cell_type": "code",
   "execution_count": null,
   "id": "44169022-eddd-4a44-aef1-c09149fd9869",
   "metadata": {},
   "outputs": [],
   "source": [
    "quantity_support()"
   ]
  },
  {
   "cell_type": "code",
   "execution_count": null,
   "id": "1d30f816-977c-4ee4-ae6f-9b6ecb930e66",
   "metadata": {},
   "outputs": [],
   "source": [
    "%matplotlib widget"
   ]
  },
  {
   "cell_type": "code",
   "execution_count": null,
   "id": "faffedfe-7862-4e02-b88b-dc991d0b7385",
   "metadata": {},
   "outputs": [],
   "source": [
    "res = Fido.search(a.dkist.Dataset(\"ALDLJ\"))"
   ]
  },
  {
   "cell_type": "code",
   "execution_count": null,
   "id": "e4cf1a9e-c578-44c5-8596-f27bb8cc85b8",
   "metadata": {},
   "outputs": [],
   "source": [
    "dataset_path = \"/data/dkist/prod/pid_2_114/{dataset_id}\"\n",
    "asdf_file = Fido.fetch(res, path=dataset_path)"
   ]
  },
  {
   "cell_type": "code",
   "execution_count": null,
   "id": "9ae77984-e3cf-4d75-8b57-a40fc47e8dec",
   "metadata": {},
   "outputs": [],
   "source": [
    "visp = dkist.load_dataset(asdf_file)"
   ]
  },
  {
   "cell_type": "code",
   "execution_count": null,
   "id": "e1e6bb53-23f7-4d6d-a29d-4074e8fbcc14",
   "metadata": {},
   "outputs": [],
   "source": [
    "# Have a running globus connect personal endpoint and then run this to download the actual data\n",
    "#visp.files.download()"
   ]
  },
  {
   "cell_type": "code",
   "execution_count": null,
   "id": "d0646000-53ec-4ce3-9feb-2b6c364e25df",
   "metadata": {},
   "outputs": [],
   "source": [
    "visp[0, :, 1000].plot()"
   ]
  },
  {
   "cell_type": "code",
   "execution_count": null,
   "id": "ed7a73d4-da2a-4963-a5c6-bb7e26b0a9db",
   "metadata": {},
   "outputs": [],
   "source": [
    "wave = visp[0, :, 1000].axis_world_coords(\"em.wl\")[0]"
   ]
  },
  {
   "cell_type": "code",
   "execution_count": null,
   "id": "9b9b174e-5bd9-4336-8678-01837691179d",
   "metadata": {},
   "outputs": [],
   "source": [
    "line_1 = Lorentz1D(amplitude=-0.6*u.ct, fwhm=0.1*u.nm, x_0=854.3*u.nm)\n",
    "line_1_constrained = line_1.copy()\n",
    "line_1_constrained.x_0.min = 854.25*u.nm\n",
    "line_1_constrained.x_0.max = 854.35*u.nm\n",
    "\n",
    "line_2 = Lorentz1D(amplitude=-0.25*u.ct, fwhm=0.01*u.nm, x_0=853.98*u.nm)\n",
    "line_2_constrained = line_2.copy()\n",
    "line_2_constrained.x_0.min = 853.95\n",
    "line_2_constrained.x_0.max = 854.00\n",
    "\n",
    "line_3 = Lorentz1D(amplitude=-0.15*u.ct, fwhm=0.01*u.nm, x_0=854.08*u.nm)\n",
    "line_3_constrained = line_3.copy()\n",
    "line_3_constrained.x_0.min = 854.05\n",
    "line_3_constrained.x_0.max = 854.13"
   ]
  },
  {
   "cell_type": "code",
   "execution_count": null,
   "id": "ee669bcd-3e04-4da1-94ca-da1bb105f6f7",
   "metadata": {},
   "outputs": [],
   "source": [
    "model_constrained = (\n",
    "    Const1D(1*u.ct) + \n",
    "    line_1_constrained +\n",
    "    line_2_constrained +\n",
    "    line_3_constrained\n",
    ")\n",
    "\n",
    "model = (\n",
    "    Const1D(1*u.ct) + \n",
    "    line_1 +\n",
    "    line_2 +\n",
    "    line_3\n",
    ")"
   ]
  },
  {
   "cell_type": "code",
   "execution_count": null,
   "id": "525d5726-da04-49ad-a665-bda474b9120a",
   "metadata": {},
   "outputs": [],
   "source": [
    "fit_constrained = TRFLSQFitter()(model_constrained, wave, visp[0, :, 1000].data.compute() * u.ct)\n",
    "fit = TRFLSQFitter()(model, wave, visp[0, :, 1000].data.compute() * u.ct)"
   ]
  },
  {
   "cell_type": "code",
   "execution_count": null,
   "id": "887814df-7b9f-4dba-86c9-6760aff34288",
   "metadata": {},
   "outputs": [],
   "source": [
    "fig, ax = plt.subplots()\n",
    "ax.set_title(\"VISP\")\n",
    "ax.plot(wave, np.mean(visp[0, :, :].data, axis=1), label=\"slit average\")\n",
    "ax.plot(wave, model(wave), label=\"initial guess\")\n",
    "ax.plot(wave, fit(wave), label=\"fit (unconstrained)\")\n",
    "ax.plot(wave, fit_constrained(wave), label=\"fit (constrained)\")\n",
    "plt.legend()"
   ]
  },
  {
   "cell_type": "code",
   "execution_count": null,
   "id": "b6cb3b76-924e-4d90-9219-e57dbceae64d",
   "metadata": {},
   "outputs": [],
   "source": [
    "from astropy.modeling.fitting_parallel import parallel_fit_model_nd"
   ]
  },
  {
   "cell_type": "code",
   "execution_count": null,
   "id": "9cf23423-b438-4ac0-890f-04df217bb490",
   "metadata": {},
   "outputs": [],
   "source": [
    "visp_model_fit = parallel_fit_model_nd(\n",
    "        model=model_constrained,\n",
    "        fitter=TRFLSQFitter(),\n",
    "        data=visp[0:1].data,\n",
    "        fitting_axes=1,\n",
    "        world = visp[0:1].wcs,\n",
    "        diagnostics=\"failed\",\n",
    "        diagnostics_path=\"diag\",\n",
    "        fitter_kwargs={\"filter_non_finite\": True},\n",
    "        chunk_n_max=50,\n",
    "        scheduler=\"synchronous\",\n",
    ")  "
   ]
  },
  {
   "cell_type": "code",
   "execution_count": null,
   "id": "b83ed52b-7b52-45b2-af6b-2e5693290192",
   "metadata": {},
   "outputs": [],
   "source": []
  }
 ],
 "metadata": {
  "kernelspec": {
   "display_name": "Python 3 (ipykernel)",
   "language": "python",
   "name": "python3"
  },
  "language_info": {
   "codemirror_mode": {
    "name": "ipython",
    "version": 3
   },
   "file_extension": ".py",
   "mimetype": "text/x-python",
   "name": "python",
   "nbconvert_exporter": "python",
   "pygments_lexer": "ipython3",
   "version": "3.12.3"
  }
 },
 "nbformat": 4,
 "nbformat_minor": 5
}
