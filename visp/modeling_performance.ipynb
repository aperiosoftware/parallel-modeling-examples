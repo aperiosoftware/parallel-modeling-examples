{
 "cells": [
  {
   "cell_type": "code",
   "execution_count": 1,
   "id": "539feb3a-bec3-4bab-83b3-d82e53dfd3f9",
   "metadata": {
    "execution": {
     "iopub.execute_input": "2024-07-02T21:20:31.997232Z",
     "iopub.status.busy": "2024-07-02T21:20:31.996931Z",
     "iopub.status.idle": "2024-07-02T21:20:34.117610Z",
     "shell.execute_reply": "2024-07-02T21:20:34.117046Z",
     "shell.execute_reply.started": "2024-07-02T21:20:31.997204Z"
    }
   },
   "outputs": [],
   "source": [
    "import dkist"
   ]
  },
  {
   "cell_type": "code",
   "execution_count": 2,
   "id": "46d5dd97-0686-4ed0-bca1-4d5d27ad2563",
   "metadata": {
    "execution": {
     "iopub.execute_input": "2024-07-02T21:20:34.118438Z",
     "iopub.status.busy": "2024-07-02T21:20:34.118054Z",
     "iopub.status.idle": "2024-07-02T21:20:34.121054Z",
     "shell.execute_reply": "2024-07-02T21:20:34.120592Z",
     "shell.execute_reply.started": "2024-07-02T21:20:34.118422Z"
    }
   },
   "outputs": [],
   "source": [
    "from astropy.modeling.fitting import TRFLSQFitter\n",
    "import numpy as np\n",
    "import astropy.modeling.models as m\n",
    "import astropy.units as u"
   ]
  },
  {
   "cell_type": "code",
   "execution_count": 3,
   "id": "e2a06258-1391-44fa-98f3-9f83d1e84e1d",
   "metadata": {
    "execution": {
     "iopub.execute_input": "2024-07-02T21:20:34.121722Z",
     "iopub.status.busy": "2024-07-02T21:20:34.121570Z",
     "iopub.status.idle": "2024-07-02T21:20:34.136916Z",
     "shell.execute_reply": "2024-07-02T21:20:34.136414Z",
     "shell.execute_reply.started": "2024-07-02T21:20:34.121707Z"
    }
   },
   "outputs": [],
   "source": [
    "import matplotlib.pyplot as plt"
   ]
  },
  {
   "cell_type": "code",
   "execution_count": 4,
   "id": "1e22773a-880a-44f1-b75e-2f4bc9be1e2f",
   "metadata": {
    "execution": {
     "iopub.execute_input": "2024-07-02T21:20:34.137595Z",
     "iopub.status.busy": "2024-07-02T21:20:34.137442Z",
     "iopub.status.idle": "2024-07-02T21:20:34.149469Z",
     "shell.execute_reply": "2024-07-02T21:20:34.148927Z",
     "shell.execute_reply.started": "2024-07-02T21:20:34.137581Z"
    }
   },
   "outputs": [],
   "source": [
    "from astropy.modeling.fitting import TRFLSQFitter\n",
    "import numpy as np"
   ]
  },
  {
   "cell_type": "code",
   "execution_count": 5,
   "id": "e4cf1a9e-c578-44c5-8596-f27bb8cc85b8",
   "metadata": {
    "execution": {
     "iopub.execute_input": "2024-07-02T21:20:34.150266Z",
     "iopub.status.busy": "2024-07-02T21:20:34.149990Z",
     "iopub.status.idle": "2024-07-02T21:20:34.162260Z",
     "shell.execute_reply": "2024-07-02T21:20:34.161651Z",
     "shell.execute_reply.started": "2024-07-02T21:20:34.150252Z"
    }
   },
   "outputs": [],
   "source": [
    "asdf_file = \"/home/tom/Data/DKIST/prod/pid_2_114/ALDLJ/VISP_L1_20231016T220247_ALDLJ.asdf\""
   ]
  },
  {
   "cell_type": "code",
   "execution_count": 6,
   "id": "9ae77984-e3cf-4d75-8b57-a40fc47e8dec",
   "metadata": {
    "execution": {
     "iopub.execute_input": "2024-07-02T21:20:34.164476Z",
     "iopub.status.busy": "2024-07-02T21:20:34.164235Z",
     "iopub.status.idle": "2024-07-02T21:20:36.099889Z",
     "shell.execute_reply": "2024-07-02T21:20:36.099306Z",
     "shell.execute_reply.started": "2024-07-02T21:20:34.164453Z"
    }
   },
   "outputs": [],
   "source": [
    "visp = dkist.load_dataset(asdf_file)"
   ]
  },
  {
   "cell_type": "code",
   "execution_count": 7,
   "id": "ed7a73d4-da2a-4963-a5c6-bb7e26b0a9db",
   "metadata": {
    "execution": {
     "iopub.execute_input": "2024-07-02T21:20:36.100732Z",
     "iopub.status.busy": "2024-07-02T21:20:36.100553Z",
     "iopub.status.idle": "2024-07-02T21:20:36.123909Z",
     "shell.execute_reply": "2024-07-02T21:20:36.123309Z",
     "shell.execute_reply.started": "2024-07-02T21:20:36.100718Z"
    }
   },
   "outputs": [],
   "source": [
    "wave = visp[0, :, 1000].axis_world_coords(\"em.wl\")[0]"
   ]
  },
  {
   "cell_type": "code",
   "execution_count": 8,
   "id": "9b9b174e-5bd9-4336-8678-01837691179d",
   "metadata": {
    "execution": {
     "iopub.execute_input": "2024-07-02T21:20:36.124792Z",
     "iopub.status.busy": "2024-07-02T21:20:36.124574Z",
     "iopub.status.idle": "2024-07-02T21:20:36.129688Z",
     "shell.execute_reply": "2024-07-02T21:20:36.129156Z",
     "shell.execute_reply.started": "2024-07-02T21:20:36.124776Z"
    }
   },
   "outputs": [],
   "source": [
    "line_1 = m.Lorentz1D(amplitude=-0.6*u.ct, fwhm=0.1*u.nm, x_0=854.3*u.nm)\n",
    "line_1_constrained = line_1.copy()\n",
    "line_1_constrained.x_0.min = 854.25*u.nm\n",
    "line_1_constrained.x_0.max = 854.35*u.nm\n",
    "\n",
    "line_2 = m.Lorentz1D(amplitude=-0.25*u.ct, fwhm=0.01*u.nm, x_0=853.98*u.nm)\n",
    "line_2_constrained = line_2.copy()\n",
    "line_2_constrained.x_0.min = 853.95\n",
    "line_2_constrained.x_0.max = 854.00\n",
    "\n",
    "line_3 = m.Lorentz1D(amplitude=-0.15*u.ct, fwhm=0.01*u.nm, x_0=854.08*u.nm)\n",
    "line_3_constrained = line_3.copy()\n",
    "line_3_constrained.x_0.min = 854.05\n",
    "line_3_constrained.x_0.max = 854.13"
   ]
  },
  {
   "cell_type": "code",
   "execution_count": 9,
   "id": "ee669bcd-3e04-4da1-94ca-da1bb105f6f7",
   "metadata": {
    "execution": {
     "iopub.execute_input": "2024-07-02T21:20:36.130499Z",
     "iopub.status.busy": "2024-07-02T21:20:36.130339Z",
     "iopub.status.idle": "2024-07-02T21:20:36.143087Z",
     "shell.execute_reply": "2024-07-02T21:20:36.142551Z",
     "shell.execute_reply.started": "2024-07-02T21:20:36.130486Z"
    }
   },
   "outputs": [],
   "source": [
    "model_constrained = (\n",
    "    m.Const1D(1*u.ct) + \n",
    "    line_1_constrained +\n",
    "    line_2_constrained +\n",
    "    line_3_constrained\n",
    ")\n",
    "\n",
    "model = (\n",
    "    m.Const1D(1*u.ct) + \n",
    "    line_1 +\n",
    "    line_2 +\n",
    "    line_3\n",
    ")"
   ]
  },
  {
   "cell_type": "markdown",
   "id": "cfb1b5fe-8fab-418f-a884-1fa861e55f8f",
   "metadata": {},
   "source": [
    "In this section we compare the performance of the fitting for a single chunk in our implementation of the parallel fitter, versus the fastest we could do in Python which is to write a hard-coded function with the model."
   ]
  },
  {
   "cell_type": "markdown",
   "id": "b64ab518-2210-4540-9c24-fb38ac5d357a",
   "metadata": {},
   "source": [
    "### Comparing model evaluation performance"
   ]
  },
  {
   "cell_type": "code",
   "execution_count": 10,
   "id": "909c3559-f543-42c6-ba93-83c38d346db1",
   "metadata": {
    "execution": {
     "iopub.execute_input": "2024-07-02T21:20:36.143905Z",
     "iopub.status.busy": "2024-07-02T21:20:36.143663Z",
     "iopub.status.idle": "2024-07-02T21:20:36.155882Z",
     "shell.execute_reply": "2024-07-02T21:20:36.155368Z",
     "shell.execute_reply.started": "2024-07-02T21:20:36.143891Z"
    }
   },
   "outputs": [],
   "source": [
    "def hardcoded_model(\n",
    "    x,\n",
    "    amplitude_0,\n",
    "    amplitude_1,\n",
    "    x_0_1,\n",
    "    fwhm_1,\n",
    "    amplitude_2,\n",
    "    x_0_2,\n",
    "    fwhm_2,\n",
    "    amplitude_3,\n",
    "    x_0_3,\n",
    "    fwhm_3\n",
    "):\n",
    "\n",
    "    gamma_sq_1 = (fwhm_1 / 2.0) ** 2\n",
    "    gamma_sq_2 = (fwhm_2 / 2.0) ** 2\n",
    "    gamma_sq_3 = (fwhm_3 / 2.0) ** 2\n",
    "\n",
    "    model = (\n",
    "        amplitude_0\n",
    "        + amplitude_1 * gamma_sq_1 / (gamma_sq_1 + (x - x_0_1) ** 2)\n",
    "        + amplitude_2 * gamma_sq_2 / (gamma_sq_2 + (x - x_0_2) ** 2)\n",
    "        + amplitude_3 * gamma_sq_3 / (gamma_sq_3 + (x - x_0_3) ** 2)\n",
    "    )\n",
    "    \n",
    "    return model"
   ]
  },
  {
   "cell_type": "code",
   "execution_count": 11,
   "id": "b3ad7b28-f555-49d8-a2cf-52f523f160ab",
   "metadata": {
    "execution": {
     "iopub.execute_input": "2024-07-02T21:20:36.156717Z",
     "iopub.status.busy": "2024-07-02T21:20:36.156490Z",
     "iopub.status.idle": "2024-07-02T21:20:36.169522Z",
     "shell.execute_reply": "2024-07-02T21:20:36.168998Z",
     "shell.execute_reply.started": "2024-07-02T21:20:36.156701Z"
    }
   },
   "outputs": [],
   "source": [
    "model_constrained_nounit = model_constrained.without_units_for_data(x=1 * u.nm, y=1 * u.ct)"
   ]
  },
  {
   "cell_type": "code",
   "execution_count": 12,
   "id": "f990ed51-76e6-4395-9591-347977215db4",
   "metadata": {
    "execution": {
     "iopub.execute_input": "2024-07-02T21:20:36.170287Z",
     "iopub.status.busy": "2024-07-02T21:20:36.170062Z",
     "iopub.status.idle": "2024-07-02T21:20:36.183736Z",
     "shell.execute_reply": "2024-07-02T21:20:36.183205Z",
     "shell.execute_reply.started": "2024-07-02T21:20:36.170272Z"
    }
   },
   "outputs": [],
   "source": [
    "wave_nm = wave.to_value('nm')"
   ]
  },
  {
   "cell_type": "code",
   "execution_count": 13,
   "id": "3948e2fc-bd86-44b3-93f5-06338a650726",
   "metadata": {
    "execution": {
     "iopub.execute_input": "2024-07-02T21:20:36.184687Z",
     "iopub.status.busy": "2024-07-02T21:20:36.184354Z",
     "iopub.status.idle": "2024-07-02T21:20:38.109245Z",
     "shell.execute_reply": "2024-07-02T21:20:38.108784Z",
     "shell.execute_reply.started": "2024-07-02T21:20:36.184672Z"
    }
   },
   "outputs": [
    {
     "name": "stdout",
     "output_type": "stream",
     "text": [
      "236 μs ± 851 ns per loop (mean ± std. dev. of 7 runs, 1,000 loops each)\n"
     ]
    }
   ],
   "source": [
    "%timeit model_constrained_nounit(wave_nm)"
   ]
  },
  {
   "cell_type": "code",
   "execution_count": 14,
   "id": "27f2029d-155c-4535-9f2c-90b0c49aa8a2",
   "metadata": {
    "execution": {
     "iopub.execute_input": "2024-07-02T21:20:38.109976Z",
     "iopub.status.busy": "2024-07-02T21:20:38.109797Z",
     "iopub.status.idle": "2024-07-02T21:20:38.112477Z",
     "shell.execute_reply": "2024-07-02T21:20:38.112076Z",
     "shell.execute_reply.started": "2024-07-02T21:20:38.109962Z"
    }
   },
   "outputs": [],
   "source": [
    "x0 = [getattr(model_constrained_nounit, name).value for name in model_constrained_nounit.param_names]"
   ]
  },
  {
   "cell_type": "code",
   "execution_count": 15,
   "id": "83bc917a-2840-48ad-a5b6-986708e0da08",
   "metadata": {
    "execution": {
     "iopub.execute_input": "2024-07-02T21:20:38.113439Z",
     "iopub.status.busy": "2024-07-02T21:20:38.113108Z",
     "iopub.status.idle": "2024-07-02T21:20:51.958942Z",
     "shell.execute_reply": "2024-07-02T21:20:51.958440Z",
     "shell.execute_reply.started": "2024-07-02T21:20:38.113424Z"
    }
   },
   "outputs": [
    {
     "name": "stdout",
     "output_type": "stream",
     "text": [
      "17 μs ± 30.5 ns per loop (mean ± std. dev. of 7 runs, 100,000 loops each)\n"
     ]
    }
   ],
   "source": [
    "%timeit hardcoded_model(wave_nm, *x0)"
   ]
  },
  {
   "cell_type": "markdown",
   "id": "580c9b3a-b359-4dfc-ad36-216e0c8e1bda",
   "metadata": {},
   "source": [
    "### Comparing fitting performance"
   ]
  },
  {
   "cell_type": "code",
   "execution_count": 16,
   "id": "03ae2e4e-5600-4c26-b9ef-0af6ad666249",
   "metadata": {
    "execution": {
     "iopub.execute_input": "2024-07-02T21:20:51.959666Z",
     "iopub.status.busy": "2024-07-02T21:20:51.959468Z",
     "iopub.status.idle": "2024-07-02T21:20:51.962520Z",
     "shell.execute_reply": "2024-07-02T21:20:51.962006Z",
     "shell.execute_reply.started": "2024-07-02T21:20:51.959651Z"
    }
   },
   "outputs": [],
   "source": [
    "from astropy.modeling.fitting_parallel import fit_models_to_chunk"
   ]
  },
  {
   "cell_type": "code",
   "execution_count": 17,
   "id": "bfe5eba0-092c-4f9c-8ada-52301cb27a30",
   "metadata": {
    "execution": {
     "iopub.execute_input": "2024-07-02T21:20:51.963230Z",
     "iopub.status.busy": "2024-07-02T21:20:51.963078Z",
     "iopub.status.idle": "2024-07-02T21:20:52.169895Z",
     "shell.execute_reply": "2024-07-02T21:20:52.169272Z",
     "shell.execute_reply.started": "2024-07-02T21:20:51.963217Z"
    }
   },
   "outputs": [
    {
     "data": {
      "text/plain": [
       "(937, 100)"
      ]
     },
     "execution_count": 17,
     "metadata": {},
     "output_type": "execute_result"
    }
   ],
   "source": [
    "chunk = np.array(visp[0].data[:,:100])\n",
    "chunk_shape = chunk.shape\n",
    "chunk_shape"
   ]
  },
  {
   "cell_type": "code",
   "execution_count": 18,
   "id": "5a6a3cdc-431d-4fed-bea8-15535fe7180f",
   "metadata": {
    "execution": {
     "iopub.execute_input": "2024-07-02T21:20:52.170549Z",
     "iopub.status.busy": "2024-07-02T21:20:52.170368Z",
     "iopub.status.idle": "2024-07-02T21:20:52.173290Z",
     "shell.execute_reply": "2024-07-02T21:20:52.172854Z",
     "shell.execute_reply.started": "2024-07-02T21:20:52.170534Z"
    }
   },
   "outputs": [],
   "source": [
    "parameter_arrays = [np.broadcast_to(getattr(model_constrained_nounit, param).value,chunk_shape) for param in model_constrained_nounit.param_names]"
   ]
  },
  {
   "cell_type": "code",
   "execution_count": 19,
   "id": "0a5ef60c-f1d4-4f39-8e9b-437b5f8d846e",
   "metadata": {
    "execution": {
     "iopub.execute_input": "2024-07-02T21:20:52.174035Z",
     "iopub.status.busy": "2024-07-02T21:20:52.173872Z",
     "iopub.status.idle": "2024-07-02T21:20:56.355406Z",
     "shell.execute_reply": "2024-07-02T21:20:56.354868Z",
     "shell.execute_reply.started": "2024-07-02T21:20:52.174021Z"
    }
   },
   "outputs": [
    {
     "name": "stdout",
     "output_type": "stream",
     "text": [
      "CPU times: user 12.5 s, sys: 5.03 ms, total: 12.5 s\n",
      "Wall time: 4.17 s\n"
     ]
    }
   ],
   "source": [
    "%%time\n",
    "\n",
    "fitted_parameters = fit_models_to_chunk(chunk,\n",
    "                    *parameter_arrays,\n",
    "                    model=model_constrained_nounit,\n",
    "                    iterating_axes=(1,),\n",
    "                    fitting_axes=(0,),\n",
    "                    world=(wave,),\n",
    "                    block_info=[0],\n",
    "                    fitter=TRFLSQFitter(),\n",
    "                   )"
   ]
  },
  {
   "cell_type": "code",
   "execution_count": 20,
   "id": "0496487d-918f-4190-a102-aaf7fac8e5c6",
   "metadata": {
    "execution": {
     "iopub.execute_input": "2024-07-02T21:20:56.356236Z",
     "iopub.status.busy": "2024-07-02T21:20:56.356038Z",
     "iopub.status.idle": "2024-07-02T21:20:56.360470Z",
     "shell.execute_reply": "2024-07-02T21:20:56.359985Z",
     "shell.execute_reply.started": "2024-07-02T21:20:56.356222Z"
    }
   },
   "outputs": [],
   "source": [
    "def hardcoded_objective_function(\n",
    "    params,\n",
    "    x,\n",
    "    y,\n",
    "):    \n",
    "    return  y - hardcoded_model(x, *params)\n",
    "\n",
    "bounds = ([-np.inf, -np.inf, 854.25, -np.inf, -np.inf, 853.95, -np.inf, -np.inf, 854.05, -np.inf],\n",
    "          [np.inf, np.inf, 854.35, np.inf, np.inf, 854.00, np.inf, np.inf, 854.13, np.inf])\n",
    "\n",
    "from scipy.optimize import least_squares\n",
    "\n",
    "def fit_models_to_chunk_hardcoded(data, *parameters):\n",
    "\n",
    "    fitted_parameters = []\n",
    "    \n",
    "    for i in range(chunk.shape[1]):\n",
    "\n",
    "        x0 = tuple(p[0, i] for p in parameters)\n",
    "        \n",
    "        result = least_squares(hardcoded_objective_function,\n",
    "                               x0,\n",
    "                               jac='2-point',\n",
    "                               diff_step=np.float64(0.0001220703125),\n",
    "                               bounds=bounds,\n",
    "                               method='trf',\n",
    "                               args=(wave.to_value('nm'),chunk[:, i]),\n",
    "                               max_nfev=100,\n",
    "                               xtol=1e-7)\n",
    "        \n",
    "        fitted_parameters.append(result.x)\n",
    "\n",
    "    return np.array(fitted_parameters)"
   ]
  },
  {
   "cell_type": "code",
   "execution_count": 21,
   "id": "b1399fe8-940b-4f43-90af-090c2c7cafe6",
   "metadata": {
    "execution": {
     "iopub.execute_input": "2024-07-02T21:20:56.362457Z",
     "iopub.status.busy": "2024-07-02T21:20:56.362292Z",
     "iopub.status.idle": "2024-07-02T21:20:56.375060Z",
     "shell.execute_reply": "2024-07-02T21:20:56.374533Z",
     "shell.execute_reply.started": "2024-07-02T21:20:56.362443Z"
    }
   },
   "outputs": [],
   "source": [
    "x0 = [getattr(model_constrained_nounit, name).value for name in model_constrained_nounit.param_names]"
   ]
  },
  {
   "cell_type": "code",
   "execution_count": 22,
   "id": "ab699acc-77e4-4191-8eea-cb0b41049b7d",
   "metadata": {
    "execution": {
     "iopub.execute_input": "2024-07-02T21:20:56.375892Z",
     "iopub.status.busy": "2024-07-02T21:20:56.375691Z",
     "iopub.status.idle": "2024-07-02T21:20:57.149206Z",
     "shell.execute_reply": "2024-07-02T21:20:57.148671Z",
     "shell.execute_reply.started": "2024-07-02T21:20:56.375877Z"
    }
   },
   "outputs": [
    {
     "name": "stdout",
     "output_type": "stream",
     "text": [
      "CPU times: user 2.27 s, sys: 148 μs, total: 2.27 s\n",
      "Wall time: 758 ms\n"
     ]
    }
   ],
   "source": [
    "%%time\n",
    "\n",
    "fitted_parameters_hardcoded = fit_models_to_chunk_hardcoded(chunk, *parameter_arrays)"
   ]
  },
  {
   "cell_type": "code",
   "execution_count": 23,
   "id": "86d4156b-79aa-408f-ab9e-ab8dc60adaf6",
   "metadata": {
    "execution": {
     "iopub.execute_input": "2024-07-02T21:20:57.150257Z",
     "iopub.status.busy": "2024-07-02T21:20:57.150017Z",
     "iopub.status.idle": "2024-07-02T21:20:57.153506Z",
     "shell.execute_reply": "2024-07-02T21:20:57.153009Z",
     "shell.execute_reply.started": "2024-07-02T21:20:57.150235Z"
    }
   },
   "outputs": [],
   "source": [
    "np.testing.assert_allclose(fitted_parameters_hardcoded.T, fitted_parameters)"
   ]
  }
 ],
 "metadata": {
  "kernelspec": {
   "display_name": "Python 3 (ipykernel)",
   "language": "python",
   "name": "python3"
  },
  "language_info": {
   "codemirror_mode": {
    "name": "ipython",
    "version": 3
   },
   "file_extension": ".py",
   "mimetype": "text/x-python",
   "name": "python",
   "nbconvert_exporter": "python",
   "pygments_lexer": "ipython3",
   "version": "3.12.4"
  }
 },
 "nbformat": 4,
 "nbformat_minor": 5
}
